{
 "cells": [
  {
   "cell_type": "markdown",
   "metadata": {},
   "source": [
    "## GA evoltion of synaptic weights for a generalized cerebellar model\n",
    "\n",
    "Using a general network with anatomical properties of the cerebellar model and the OKN eye plant model, use a GA to tunned the weights of synaptic connections to match the prediction properties (initiation and terminnation) observed in VOR adaptation."
   ]
  },
  {
   "cell_type": "markdown",
   "metadata": {},
   "source": [
    "# Eye plant with direct and indirect paths\n",
    "\n",
    "Model presented at Hirata et al. 2002 Annals of the New York Academy of Sciences. Inagaki at al 2007.\n",
    "\n",
    "$$G^{visual}_{indirect}(s)=\\frac{0.025s^2 + 1.25s + 0.552885}{0.20643s^2+1.3544s+0.6589}e^{-0.047s}$$\n",
    "$$G^{visual}_{direct}(s)=\\frac{1}{s + K}$$\n",
    "\n",
    "In cannonical controlable form:\n",
    "$$\\dot{q}(t)=\\begin{bmatrix}\n",
    "-6.5407 & -3.1492\\\\ \n",
    "1 & 0\n",
    "\\end{bmatrix}\n",
    "q(t) + \\begin{bmatrix}\n",
    "1\\\\ \n",
    "0\n",
    "\\end{bmatrix}u(t)$$\n",
    "\n",
    "$$y(t)=\\begin{bmatrix}\n",
    "5.2640 & 2.2833\n",
    "\\end{bmatrix}q(t) + 0.1211u(t)$$"
   ]
  },
  {
   "cell_type": "code",
   "execution_count": 25,
   "metadata": {},
   "outputs": [
    {
     "name": "stderr",
     "output_type": "stream",
     "text": [
      "C:\\Users\\ruben\\Anaconda3\\lib\\site-packages\\ipykernel_launcher.py:66: DeprecationWarning: object of type <class 'numpy.float64'> cannot be safely interpreted as an integer.\n"
     ]
    }
   ],
   "source": [
    "import matplotlib.pyplot as plt\n",
    "import numpy as np\n",
    "from scipy.integrate import odeint\n",
    "from scipy import signal\n",
    "\n",
    "\n",
    "def feval(funcName, *args):\n",
    "    return eval(funcName)(*args)\n",
    "\n",
    "\n",
    "def simulate(func, yinit, x_range, h, stim):\n",
    "    '''\n",
    "    This function/module performs the forward Euler method steps.\n",
    "    '''\n",
    "    m = len(yinit) # Number of ODEs\n",
    "    n = int((x_range[-1] - x_range[0])/h) # Number of steps\n",
    "    \n",
    "    x = x_range[0] # Initializes variables x\n",
    "    y = yinit # Initializes variables y\n",
    "    step = 0\n",
    "    \n",
    "    xsol = np.empty(0) # Creates an empty container for x\n",
    "    xsol = np.append(xsol, x) # Fills in the first x\n",
    "\n",
    "    ysol = [] # Creates an empty container for y\n",
    "    ysol.append(y) # Fills in the initial conditions\n",
    "    \n",
    "    rslip = 0.\n",
    "    epos = []\n",
    "    direct = 0.\n",
    "    indirect = 0.\n",
    "    \n",
    "    for i in range(n):\n",
    "        \n",
    "        rslip = stim[step] - (direct + indirect) if stim[step] >=0. else 0.\n",
    "        epos.append([direct, indirect, (direct + indirect)])\n",
    "        \n",
    "        yprime = feval(func, y, rslip) # Evaluates dy/dx\n",
    "        \n",
    "        for j in range(m):\n",
    "            y[j] = y[j] + h*yprime[j] # Eq. (8.2)\n",
    "       \n",
    "        xsol = np.append(xsol, x) # Saves it in the container\n",
    "        ysol.append(y) # Saves all new y's \n",
    "        \n",
    "        q1, q2, q3 = y\n",
    "        direct = 0.*5.264*q1 + 0.*2.2833*q2 + 0.9*rslip\n",
    "        indirect = q3\n",
    "        \n",
    "        x += h # Increase x-step\n",
    "        step += 1\n",
    "            \n",
    "    return [xsol, ysol, epos]\n",
    "\n",
    "\n",
    "def eye_plant(y, u):\n",
    "    q1, q2, q3 = y\n",
    "    dq1 = -6.5407*q1 - 3.1492*q2 + u\n",
    "    dq2 =  q1\n",
    "    dq3 = -0.1*q3 + u\n",
    "    return [dq1, dq2, dq3]\n",
    "\n",
    "\n",
    "dt = 0.001\n",
    "xrange = np.array([0., 32.])\n",
    "t = np.linspace(xrange[0],xrange[1],xrange[1]/dt, endpoint=False)\n",
    "stim =10.*signal.square(2. * np.pi * 0.0625 * t, duty=0.5)+ 10.\n",
    "yinit = np.array([0.,0.,0.]) \n",
    "\n",
    "q = simulate('eye_plant', yinit, xrange, dt, stim)\n"
   ]
  },
  {
   "cell_type": "code",
   "execution_count": 26,
   "metadata": {},
   "outputs": [
    {
     "data": {
      "text/plain": [
       "<matplotlib.legend.Legend at 0xa56f6a0>"
      ]
     },
     "execution_count": 26,
     "metadata": {},
     "output_type": "execute_result"
    },
    {
     "data": {
      "image/png": "[encoded data removed]",
      "text/plain": [
       "<Figure size 432x288 with 1 Axes>"
      ]
     },
     "metadata": {
      "needs_background": "light"
     },
     "output_type": "display_data"
    }
   ],
   "source": [
    "plt.plot(t, stim)\n",
    "\n",
    "positions = np.array(q[2])\n",
    "plt.plot(t, positions)\n",
    "plt.legend(['stim','direct', 'indirect','e pos'])"
   ]
  },
  {
   "cell_type": "code",
   "execution_count": null,
   "metadata": {},
   "outputs": [],
   "source": []
  },
  {
   "cell_type": "code",
   "execution_count": null,
   "metadata": {},
   "outputs": [],
   "source": []
  }
 ],
 "metadata": {
  "kernelspec": {
   "display_name": "Python 3",
   "language": "python",
   "name": "python3"
  },
  "language_info": {
   "codemirror_mode": {
    "name": "ipython",
    "version": 3
   },
   "file_extension": ".py",
   "mimetype": "text/x-python",
   "name": "python",
   "nbconvert_exporter": "python",
   "pygments_lexer": "ipython3",
   "version": "3.7.0"
  }
 },
 "nbformat": 4,
 "nbformat_minor": 2
}
