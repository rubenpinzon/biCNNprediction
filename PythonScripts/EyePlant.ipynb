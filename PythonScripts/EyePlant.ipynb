{
 "cells": [
  {
   "cell_type": "code",
   "execution_count": 65,
   "metadata": {},
   "outputs": [
    {
     "ename": "TypeError",
     "evalue": "Cannot link variable __source_my_synapses_1_I_pre to I_pre in group synapses_1 -- need to precalculate direct indices but index _presynaptic_idx can change",
     "output_type": "error",
     "traceback": [
      "\u001b[1;31m---------------------------------------------------------------------------\u001b[0m",
      "\u001b[1;31mTypeError\u001b[0m                                 Traceback (most recent call last)",
      "\u001b[1;32m<ipython-input-65-aaa6ee46b8cc>\u001b[0m in \u001b[0;36m<module>\u001b[1;34m()\u001b[0m\n\u001b[0;32m     62\u001b[0m \u001b[1;31m#M=StateMonitor(tf,True,record=True)\u001b[0m\u001b[1;33m\u001b[0m\u001b[1;33m\u001b[0m\u001b[0m\n\u001b[0;32m     63\u001b[0m \u001b[1;31m#N=StateMonitor(st,True,record=True)\u001b[0m\u001b[1;33m\u001b[0m\u001b[1;33m\u001b[0m\u001b[0m\n\u001b[1;32m---> 64\u001b[1;33m \u001b[0mM\u001b[0m \u001b[1;33m=\u001b[0m \u001b[0mStateMonitor\u001b[0m\u001b[1;33m(\u001b[0m\u001b[0mS1\u001b[0m\u001b[1;33m,\u001b[0m\u001b[1;33m[\u001b[0m\u001b[1;34m'w'\u001b[0m\u001b[1;33m,\u001b[0m\u001b[1;34m'my'\u001b[0m\u001b[1;33m]\u001b[0m\u001b[1;33m,\u001b[0m\u001b[0mrecord\u001b[0m\u001b[1;33m=\u001b[0m\u001b[1;32mTrue\u001b[0m\u001b[1;33m)\u001b[0m\u001b[1;33m\u001b[0m\u001b[0m\n\u001b[0m\u001b[0;32m     65\u001b[0m \u001b[0mrun\u001b[0m\u001b[1;33m(\u001b[0m\u001b[1;36m10\u001b[0m\u001b[1;33m*\u001b[0m\u001b[0msecond\u001b[0m\u001b[1;33m)\u001b[0m\u001b[1;33m\u001b[0m\u001b[0m\n\u001b[0;32m     66\u001b[0m \u001b[1;31m#plot(M.times/ms, M[0]/mV)\u001b[0m\u001b[1;33m\u001b[0m\u001b[1;33m\u001b[0m\u001b[0m\n",
      "\u001b[1;32m~\\Anaconda3\\lib\\site-packages\\brian2\\monitors\\statemonitor.py\u001b[0m in \u001b[0;36m__init__\u001b[1;34m(self, source, variables, record, dt, clock, when, order, name, codeobj_class)\u001b[0m\n\u001b[0;32m    248\u001b[0m             \u001b[0mindex\u001b[0m \u001b[1;33m=\u001b[0m \u001b[0msource\u001b[0m\u001b[1;33m.\u001b[0m\u001b[0mvariables\u001b[0m\u001b[1;33m.\u001b[0m\u001b[0mindices\u001b[0m\u001b[1;33m[\u001b[0m\u001b[0mvarname\u001b[0m\u001b[1;33m]\u001b[0m\u001b[1;33m\u001b[0m\u001b[0m\n\u001b[0;32m    249\u001b[0m             self.variables.add_reference('_source_%s' % varname,\n\u001b[1;32m--> 250\u001b[1;33m                                          source, varname, index=index)\n\u001b[0m\u001b[0;32m    251\u001b[0m             \u001b[1;32mif\u001b[0m \u001b[1;32mnot\u001b[0m \u001b[0mindex\u001b[0m \u001b[1;32min\u001b[0m \u001b[1;33m(\u001b[0m\u001b[1;34m'_idx'\u001b[0m\u001b[1;33m,\u001b[0m \u001b[1;34m'0'\u001b[0m\u001b[1;33m)\u001b[0m \u001b[1;32mand\u001b[0m \u001b[0mindex\u001b[0m \u001b[1;32mnot\u001b[0m \u001b[1;32min\u001b[0m \u001b[0mvariables\u001b[0m\u001b[1;33m:\u001b[0m\u001b[1;33m\u001b[0m\u001b[0m\n\u001b[0;32m    252\u001b[0m                 \u001b[0mself\u001b[0m\u001b[1;33m.\u001b[0m\u001b[0mvariables\u001b[0m\u001b[1;33m.\u001b[0m\u001b[0madd_reference\u001b[0m\u001b[1;33m(\u001b[0m\u001b[0mindex\u001b[0m\u001b[1;33m,\u001b[0m \u001b[0msource\u001b[0m\u001b[1;33m)\u001b[0m\u001b[1;33m\u001b[0m\u001b[0m\n",
      "\u001b[1;32m~\\Anaconda3\\lib\\site-packages\\brian2\\core\\variables.py\u001b[0m in \u001b[0;36madd_reference\u001b[1;34m(self, name, group, varname, index)\u001b[0m\n\u001b[0;32m   1807\u001b[0m             \u001b[0mvar\u001b[0m \u001b[1;33m=\u001b[0m \u001b[0mgroup\u001b[0m\u001b[1;33m.\u001b[0m\u001b[0mvariables\u001b[0m\u001b[1;33m[\u001b[0m\u001b[0mvarname\u001b[0m\u001b[1;33m]\u001b[0m\u001b[1;33m\u001b[0m\u001b[0m\n\u001b[0;32m   1808\u001b[0m             \u001b[1;32mif\u001b[0m \u001b[0misinstance\u001b[0m\u001b[1;33m(\u001b[0m\u001b[0mvar\u001b[0m\u001b[1;33m,\u001b[0m \u001b[0mSubexpression\u001b[0m\u001b[1;33m)\u001b[0m\u001b[1;33m:\u001b[0m\u001b[1;33m\u001b[0m\u001b[0m\n\u001b[1;32m-> 1809\u001b[1;33m                 \u001b[0mself\u001b[0m\u001b[1;33m.\u001b[0m\u001b[0madd_referred_subexpression\u001b[0m\u001b[1;33m(\u001b[0m\u001b[0mname\u001b[0m\u001b[1;33m,\u001b[0m \u001b[0mgroup\u001b[0m\u001b[1;33m,\u001b[0m \u001b[0mvar\u001b[0m\u001b[1;33m,\u001b[0m \u001b[0mindex\u001b[0m\u001b[1;33m)\u001b[0m\u001b[1;33m\u001b[0m\u001b[0m\n\u001b[0m\u001b[0;32m   1810\u001b[0m             \u001b[1;32melse\u001b[0m\u001b[1;33m:\u001b[0m\u001b[1;33m\u001b[0m\u001b[0m\n\u001b[0;32m   1811\u001b[0m                 \u001b[0mself\u001b[0m\u001b[1;33m.\u001b[0m\u001b[0m_variables\u001b[0m\u001b[1;33m[\u001b[0m\u001b[0mname\u001b[0m\u001b[1;33m]\u001b[0m \u001b[1;33m=\u001b[0m \u001b[0mvar\u001b[0m\u001b[1;33m\u001b[0m\u001b[0m\n",
      "\u001b[1;32m~\\Anaconda3\\lib\\site-packages\\brian2\\core\\variables.py\u001b[0m in \u001b[0;36madd_referred_subexpression\u001b[1;34m(self, name, group, subexpr, index)\u001b[0m\n\u001b[0;32m   1751\u001b[0m                                    \u001b[0mgroup\u001b[0m\u001b[1;33m,\u001b[0m\u001b[1;33m\u001b[0m\u001b[0m\n\u001b[0;32m   1752\u001b[0m                                    \u001b[0midentifier\u001b[0m\u001b[1;33m,\u001b[0m\u001b[1;33m\u001b[0m\u001b[0m\n\u001b[1;32m-> 1753\u001b[1;33m                                    subexpr_var_index)\n\u001b[0m\u001b[0;32m   1754\u001b[0m \u001b[1;33m\u001b[0m\u001b[0m\n\u001b[0;32m   1755\u001b[0m         \u001b[0mnew_expr\u001b[0m \u001b[1;33m=\u001b[0m \u001b[0mword_substitute\u001b[0m\u001b[1;33m(\u001b[0m\u001b[0msubexpr\u001b[0m\u001b[1;33m.\u001b[0m\u001b[0mexpr\u001b[0m\u001b[1;33m,\u001b[0m \u001b[0msubstitutions\u001b[0m\u001b[1;33m)\u001b[0m\u001b[1;33m\u001b[0m\u001b[0m\n",
      "\u001b[1;32m~\\Anaconda3\\lib\\site-packages\\brian2\\core\\variables.py\u001b[0m in \u001b[0;36madd_reference\u001b[1;34m(self, name, group, varname, index)\u001b[0m\n\u001b[0;32m   1801\u001b[0m                                                            \u001b[0mvarname\u001b[0m\u001b[1;33m,\u001b[0m\u001b[1;33m\u001b[0m\u001b[0m\n\u001b[0;32m   1802\u001b[0m                                                            \u001b[0mgroup\u001b[0m\u001b[1;33m.\u001b[0m\u001b[0mname\u001b[0m\u001b[1;33m,\u001b[0m\u001b[1;33m\u001b[0m\u001b[0m\n\u001b[1;32m-> 1803\u001b[1;33m                                                            index))\n\u001b[0m\u001b[0;32m   1804\u001b[0m \u001b[1;33m\u001b[0m\u001b[0m\n\u001b[0;32m   1805\u001b[0m         \u001b[1;31m# We don't overwrite existing names with references\u001b[0m\u001b[1;33m\u001b[0m\u001b[1;33m\u001b[0m\u001b[0m\n",
      "\u001b[1;31mTypeError\u001b[0m: Cannot link variable __source_my_synapses_1_I_pre to I_pre in group synapses_1 -- need to precalculate direct indices but index _presynaptic_idx can change"
     ]
    }
   ],
   "source": [
    "# -*- coding: utf-8 -*-\n",
    "\"\"\"\n",
    "Created on Fri Feb 14 08:49:00 2014\n",
    "\n",
    "@author: ruben\n",
    "\"\"\"\n",
    "\n",
    "from brian2 import *\n",
    "from scipy import signal\n",
    "import numpy as np\n",
    "\n",
    "#tau_e=1*ms # AMPA synapse\n",
    "\n",
    "eqs= '''\n",
    "dq1/dt = (-6.5407*q1 - 3.1492*q2 + I)/(50*ms):volt\n",
    "dq2/dt = (q1)/(50 * ms):volt\n",
    "dq3/dt = (-0.4*q3 + I )/(50*ms):volt\n",
    "y = 5.2640*q1 + 2.2833*q2 + 0.1211*I + q3:volt\n",
    "I : volt\n",
    "'''\n",
    "eqs2 = '''\n",
    "stimulus = 3000*mV * int((t % (5*second))<2*second) - 1500*mV: volt\n",
    "y = stimulus - I:volt \n",
    "I : volt\n",
    "'''\n",
    "\n",
    "tf=NeuronGroup(1,model=eqs,threshold='y>-50*mV')\n",
    "st=NeuronGroup(1,model=eqs2,threshold='y>-50*mV')\n",
    "\n",
    "S1 = Synapses(st, tf,  '''\n",
    "             w : 1\n",
    "             my = I_pre:volt''',\n",
    "             on_pre='''\n",
    "             I_post = w*y_pre\n",
    "             '''\n",
    "             )\n",
    "S2 = Synapses(tf, st, '''\n",
    "             w : 1\n",
    "             ''',\n",
    "             on_pre=\n",
    "             '''\n",
    "                 I_post = w*y_pre\n",
    "             ''')\n",
    "             \n",
    "S1.connect(i=0, j=0)\n",
    "S2.connect(i=0, j=0)\n",
    "\n",
    "#N = 10\n",
    "#J = 10 /(1*second)\n",
    "#rates=10*Hz\n",
    "#layer1=PoissonGroup(N,rates=rates)\n",
    "\n",
    "#backNoise=Synapses(tf,layer1, 'w: siemens',on_pre='ge += w')\n",
    "#backNoise.connect(p=0.02)\n",
    "#backNoise.w = 2*nS\n",
    "\n",
    "#t = np.linspace(0,10,1/defaultclock.dt, endpoint=False)\n",
    "#visual = signal.square(2 * np.pi * 0.25 * t, duty=0.5)*mV\n",
    "#tf.u = signal.square(2 * np.pi * 0.25 * t, duty=0.5)\n",
    "#tf.I = TimedArray(visual, dt=defaultclock.dt)\n",
    "#tf.I = 1000*mV\n",
    "#M=StateMonitor(tf,True,record=True)\n",
    "#N=StateMonitor(st,True,record=True)\n",
    "M = StateMonitor(S1,['w','my'],record=True)\n",
    "run(10*second)\n",
    "#plot(M.times/ms, M[0]/mV)\n",
    "#plot(M.T/mV)\n",
    "#show()"
   ]
  },
  {
   "cell_type": "code",
   "execution_count": 57,
   "metadata": {},
   "outputs": [
    {
     "ename": "NameError",
     "evalue": "name 'visualise_connectivity' is not defined",
     "output_type": "error",
     "traceback": [
      "\u001b[1;31m---------------------------------------------------------------------------\u001b[0m",
      "\u001b[1;31mNameError\u001b[0m                                 Traceback (most recent call last)",
      "\u001b[1;32m<ipython-input-57-66789970f939>\u001b[0m in \u001b[0;36m<module>\u001b[1;34m()\u001b[0m\n\u001b[0;32m      2\u001b[0m \u001b[0mplot\u001b[0m\u001b[1;33m(\u001b[0m\u001b[0mM\u001b[0m\u001b[1;33m.\u001b[0m\u001b[0mt\u001b[0m\u001b[1;33m,\u001b[0m \u001b[0mM\u001b[0m\u001b[1;33m.\u001b[0m\u001b[0mI\u001b[0m\u001b[1;33m[\u001b[0m\u001b[1;36m0\u001b[0m\u001b[1;33m]\u001b[0m\u001b[1;33m)\u001b[0m\u001b[1;33m\u001b[0m\u001b[0m\n\u001b[0;32m      3\u001b[0m \u001b[0mplot\u001b[0m\u001b[1;33m(\u001b[0m\u001b[0mM\u001b[0m\u001b[1;33m.\u001b[0m\u001b[0mt\u001b[0m\u001b[1;33m,\u001b[0m \u001b[0mM\u001b[0m\u001b[1;33m.\u001b[0m\u001b[0mI\u001b[0m\u001b[1;33m[\u001b[0m\u001b[1;36m0\u001b[0m\u001b[1;33m]\u001b[0m\u001b[1;33m)\u001b[0m\u001b[1;33m\u001b[0m\u001b[0m\n\u001b[1;32m----> 4\u001b[1;33m \u001b[0mvisualise_connectivity\u001b[0m\u001b[1;33m(\u001b[0m\u001b[0mS1\u001b[0m\u001b[1;33m)\u001b[0m\u001b[1;33m\u001b[0m\u001b[0m\n\u001b[0m",
      "\u001b[1;31mNameError\u001b[0m: name 'visualise_connectivity' is not defined"
     ]
    },
    {
     "data": {
      "image/png": "[encoded data removed]",
      "text/plain": [
       "<Figure size 432x288 with 1 Axes>"
      ]
     },
     "metadata": {
      "needs_background": "light"
     },
     "output_type": "display_data"
    }
   ],
   "source": [
    "plot(M.t, M.y[0])\n",
    "plot(M.t, M.I[0])\n",
    "plot(M.t, M.I[0])\n"
   ]
  },
  {
   "cell_type": "code",
   "execution_count": 48,
   "metadata": {},
   "outputs": [
    {
     "name": "stdout",
     "output_type": "stream",
     "text": [
      "t\n",
      "N\n",
      "_indices\n",
      "_clock_t\n",
      "_clock_dt\n",
      "_source_I\n",
      "I\n",
      "__source_stimulus_neurongroup_6_t\n",
      "_source_stimulus\n",
      "stimulus\n",
      "__source_y_neurongroup_6_I\n",
      "___source_y_neurongroup_6_stimulus_neurongroup_6_t\n",
      "__source_y_neurongroup_6_stimulus\n",
      "_source_y\n",
      "y\n",
      "_to_record_I\n",
      "_to_record_stimulus\n",
      "_to_record_y\n"
     ]
    }
   ],
   "source": [
    "for y in N.variables:\n",
    "    print(y)"
   ]
  },
  {
   "cell_type": "code",
   "execution_count": 49,
   "metadata": {},
   "outputs": [
    {
     "name": "stdout",
     "output_type": "stream",
     "text": [
      "t\n",
      "N\n",
      "_indices\n",
      "_clock_t\n",
      "_clock_dt\n",
      "_source_q3\n",
      "q3\n",
      "_source_I\n",
      "I\n",
      "_source_q1\n",
      "q1\n",
      "_source_q2\n",
      "q2\n",
      "__source_y_neurongroup_4_I\n",
      "__source_y_neurongroup_4_q1\n",
      "__source_y_neurongroup_4_q3\n",
      "__source_y_neurongroup_4_q2\n",
      "_source_y\n",
      "y\n",
      "_to_record_q3\n",
      "_to_record_I\n",
      "_to_record_q1\n",
      "_to_record_q2\n",
      "_to_record_y\n"
     ]
    }
   ],
   "source": [
    "for y in M.variables:\n",
    "    print(y)"
   ]
  },
  {
   "cell_type": "code",
   "execution_count": 59,
   "metadata": {},
   "outputs": [
    {
     "data": {
      "image/png": "[encoded data removed]",
      "text/plain": [
       "<Figure size 720x288 with 2 Axes>"
      ]
     },
     "metadata": {
      "needs_background": "light"
     },
     "output_type": "display_data"
    }
   ],
   "source": [
    "def visualise_connectivity(S):\n",
    "    Ns = len(S.source)\n",
    "    Nt = len(S.target)\n",
    "    figure(figsize=(10, 4))\n",
    "    subplot(121)\n",
    "    plot(zeros(Ns), arange(Ns), 'ok', ms=10)\n",
    "    plot(ones(Nt), arange(Nt), 'ok', ms=10)\n",
    "    for i, j in zip(S.i, S.j):\n",
    "        plot([0, 1], [i, j], '-k')\n",
    "    xticks([0, 1], ['Source', 'Target'])\n",
    "    ylabel('Neuron index')\n",
    "    xlim(-0.1, 1.1)\n",
    "    ylim(-1, max(Ns, Nt))\n",
    "    subplot(122)\n",
    "    plot(S.i, S.j, 'ok')\n",
    "    xlim(-1, Ns)\n",
    "    ylim(-1, Nt)\n",
    "    xlabel('Source neuron index')\n",
    "    ylabel('Target neuron index')\n",
    "    \n",
    "\n",
    "visualise_connectivity(S2)"
   ]
  },
  {
   "cell_type": "code",
   "execution_count": null,
   "metadata": {},
   "outputs": [],
   "source": []
  }
 ],
 "metadata": {
  "kernelspec": {
   "display_name": "Python 3",
   "language": "python",
   "name": "python3"
  },
  "language_info": {
   "codemirror_mode": {
    "name": "ipython",
    "version": 3
   },
   "file_extension": ".py",
   "mimetype": "text/x-python",
   "name": "python",
   "nbconvert_exporter": "python",
   "pygments_lexer": "ipython3",
   "version": "3.7.0"
  }
 },
 "nbformat": 4,
 "nbformat_minor": 2
}
